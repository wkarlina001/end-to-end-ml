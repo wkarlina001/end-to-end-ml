{
 "cells": [
  {
   "cell_type": "code",
   "execution_count": 1,
   "metadata": {},
   "outputs": [],
   "source": [
    "from dataclasses import dataclass\n",
    "from pathlib import Path\n",
    "\n",
    "@dataclass(frozen=True)\n",
    "class DataIngestionConfig:\n",
    "    root_dir: Path\n",
    "    local_data_file: Path\n",
    "    unzip_dir: Path\n",
    "    "
   ]
  },
  {
   "cell_type": "code",
   "execution_count": 2,
   "metadata": {},
   "outputs": [],
   "source": [
    "from deepFakeDetection.constants import *\n",
    "from deepFakeDetection.utils.common import *\n"
   ]
  },
  {
   "cell_type": "code",
   "execution_count": 3,
   "metadata": {},
   "outputs": [],
   "source": [
    "class ConfigurationManager:\n",
    "    def __init__(\n",
    "            self,\n",
    "            config_filepath = CONFIG_FILE_PATH,\n",
    "            params_filepath = PARAMS_FILE_PATH\n",
    "    ):\n",
    "        print(config_filepath, params_filepath)\n",
    "        self.config = read_yaml(config_filepath)\n",
    "        self.params = read_yaml(params_filepath)\n",
    "        \n",
    "        create_directories([self.config.artifact_root])\n",
    "\n",
    "    def get_data_ingestion_config(self) -> DataIngestionConfig:\n",
    "        config = self.config.data_ingestion\n",
    "\n",
    "        create_directories([config.root_dir])\n",
    "\n",
    "        data_ingestion_config = DataIngestionConfig(\n",
    "            root_dir=config.root_dir,\n",
    "            local_data_file=config.local_data_file,\n",
    "            unzip_dir=config.unzip_dir\n",
    "        )\n",
    "\n",
    "        return data_ingestion_config\n"
   ]
  },
  {
   "cell_type": "code",
   "execution_count": 4,
   "metadata": {},
   "outputs": [],
   "source": [
    "import os\n",
    "import urllib.request as request\n",
    "import zipfile\n",
    "from deepFakeDetection import logger\n",
    "from deepFakeDetection.utils.common import get_size\n",
    "import tarfile"
   ]
  },
  {
   "cell_type": "code",
   "execution_count": 5,
   "metadata": {},
   "outputs": [],
   "source": [
    "class DataIngestion:\n",
    "    def __init__(self, config:DataIngestionConfig):\n",
    "        self.config = config\n",
    "\n",
    "    def unzip_data_file(self) -> str:\n",
    "        '''\n",
    "        Fetch data from the url\n",
    "        '''\n",
    "        try:\n",
    "            local_dir_data = self.config.unzip_dir\n",
    "            zip_download_dir = self.config.local_data_file\n",
    "            os.makedirs(\"artifacts/data_ingestion\", exist_ok=True)\n",
    "            logger.info(f\"Unzipping data from {zip_download_dir} into file {zip_download_dir}\")\n",
    "\n",
    "            tar = tarfile.open(zip_download_dir, 'r:gz')\n",
    "            tar.extractall(local_dir_data)\n",
    "            tar.close()\n",
    "\n",
    "            logger.info(f\"Unzipped data from {zip_download_dir} into file {zip_download_dir}\")\n",
    "\n",
    "        except Exception as e:\n",
    "            raise e\n"
   ]
  },
  {
   "cell_type": "code",
   "execution_count": 9,
   "metadata": {},
   "outputs": [
    {
     "name": "stdout",
     "output_type": "stream",
     "text": [
      "/Users/wiwikkarlina/Documents/Escape_Plan/end-to-end-ml/config/config.yaml /Users/wiwikkarlina/Documents/Escape_Plan/end-to-end-ml/params.yaml\n",
      "[2024-12-25 15:35:00,141: INFO: common: yaml file: /Users/wiwikkarlina/Documents/Escape_Plan/end-to-end-ml/config/config.yaml loaded successfully]\n",
      "[2024-12-25 15:35:00,143: INFO: common: yaml file: /Users/wiwikkarlina/Documents/Escape_Plan/end-to-end-ml/params.yaml loaded successfully]\n",
      "[2024-12-25 15:35:00,144: INFO: common: created directory at: artifacts]\n",
      "[2024-12-25 15:35:00,144: INFO: common: created directory at: artifacts/data_ingestion]\n",
      "[2024-12-25 15:35:00,151: INFO: 1473633004: Unzipping data from /Users/wiwikkarlina/Documents/Escape_Plan/end-to-end-ml/data/for-norm.tar.gz into file /Users/wiwikkarlina/Documents/Escape_Plan/end-to-end-ml/data/for-norm.tar.gz]\n"
     ]
    }
   ],
   "source": [
    "config = ConfigurationManager()\n",
    "data_ingestion_config = config.get_data_ingestion_config()\n",
    "data_ingestion = DataIngestion(config=data_ingestion_config)\n",
    "data_ingestion.unzip_data_file()"
   ]
  },
  {
   "cell_type": "code",
   "execution_count": null,
   "metadata": {},
   "outputs": [],
   "source": []
  },
  {
   "cell_type": "code",
   "execution_count": null,
   "metadata": {},
   "outputs": [],
   "source": []
  }
 ],
 "metadata": {
  "kernelspec": {
   "display_name": "deepfake",
   "language": "python",
   "name": "python3"
  },
  "language_info": {
   "codemirror_mode": {
    "name": "ipython",
    "version": 3
   },
   "file_extension": ".py",
   "mimetype": "text/x-python",
   "name": "python",
   "nbconvert_exporter": "python",
   "pygments_lexer": "ipython3",
   "version": "3.8.20"
  }
 },
 "nbformat": 4,
 "nbformat_minor": 2
}

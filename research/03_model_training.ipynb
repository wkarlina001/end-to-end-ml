{
 "cells": [
  {
   "cell_type": "code",
   "execution_count": 1,
   "metadata": {},
   "outputs": [
    {
     "name": "stderr",
     "output_type": "stream",
     "text": [
      "2025-01-02 16:48:39.827276: I tensorflow/core/platform/cpu_feature_guard.cc:182] This TensorFlow binary is optimized to use available CPU instructions in performance-critical operations.\n",
      "To enable the following instructions: SSE4.1 SSE4.2, in other operations, rebuild TensorFlow with the appropriate compiler flags.\n"
     ]
    },
    {
     "data": {
      "text/plain": [
       "'2.12.0'"
      ]
     },
     "execution_count": 1,
     "metadata": {},
     "output_type": "execute_result"
    }
   ],
   "source": [
    "import keras\n",
    "keras.__version__"
   ]
  },
  {
   "cell_type": "code",
   "execution_count": 2,
   "metadata": {},
   "outputs": [
    {
     "ename": "NameError",
     "evalue": "name 'dataclass' is not defined",
     "output_type": "error",
     "traceback": [
      "\u001b[0;31m---------------------------------------------------------------------------\u001b[0m",
      "\u001b[0;31mNameError\u001b[0m                                 Traceback (most recent call last)",
      "Cell \u001b[0;32mIn[2], line 10\u001b[0m\n\u001b[1;32m      7\u001b[0m \u001b[38;5;28;01mfrom\u001b[39;00m \u001b[38;5;21;01mdeepFakeDetection\u001b[39;00m \u001b[38;5;28;01mimport\u001b[39;00m logger\n\u001b[1;32m      8\u001b[0m \u001b[38;5;28;01mfrom\u001b[39;00m \u001b[38;5;21;01mtensorflow\u001b[39;00m\u001b[38;5;21;01m.\u001b[39;00m\u001b[38;5;21;01mkeras\u001b[39;00m\u001b[38;5;21;01m.\u001b[39;00m\u001b[38;5;21;01mutils\u001b[39;00m \u001b[38;5;28;01mimport\u001b[39;00m load_img, img_to_array \n\u001b[0;32m---> 10\u001b[0m \u001b[38;5;129m@dataclass\u001b[39m(frozen\u001b[38;5;241m=\u001b[39m\u001b[38;5;28;01mTrue\u001b[39;00m)\n\u001b[1;32m     11\u001b[0m \u001b[38;5;28;01mclass\u001b[39;00m \u001b[38;5;21;01mModelTrainingConfig\u001b[39;00m:\n\u001b[1;32m     12\u001b[0m     spectogram_data_dir: Path\n\u001b[1;32m     13\u001b[0m     params_epochs: \u001b[38;5;28mint\u001b[39m\n",
      "\u001b[0;31mNameError\u001b[0m: name 'dataclass' is not defined"
     ]
    }
   ],
   "source": [
    "import numpy as np\n",
    "import librosa.display, os\n",
    "import matplotlib.pyplot as plt\n",
    "%matplotlib inline\n",
    "from pathlib import Path\n",
    "from ensure import ensure_annotations\n",
    "from deepFakeDetection import logger\n",
    "from tensorflow.keras.utils import load_img, img_to_array \n",
    "\n",
    "@dataclass(frozen=True)\n",
    "class ModelTrainingConfig:\n",
    "    spectogram_data_dir: Path\n",
    "    params_epochs: int\n",
    "    params_batch_size: int\n",
    "    params_image_size: list\n",
    "    \n",
    "    "
   ]
  },
  {
   "cell_type": "code",
   "execution_count": null,
   "metadata": {},
   "outputs": [],
   "source": [
    "from deepFakeDetection.constants import *\n",
    "from deepFakeDetection.utils.common import read_yaml, create_directories\n",
    "from deepFakeDetection.entity.config_entity import *\n",
    "\n",
    "class ConfigurationManager:\n",
    "    def __init__(\n",
    "            self,\n",
    "            config_filepath = CONFIG_FILE_PATH,\n",
    "            params_filepath = PARAMS_FILE_PATH\n",
    "    ):\n",
    "        self.config = read_yaml(config_filepath)\n",
    "        self.params = read_yaml(params_filepath)\n",
    "        \n",
    "        create_directories([self.config.artifact_root])\n",
    "\n",
    "    def get_model_training_config(self) -> ModelTrainingConfig:\n",
    "        \n",
    "        training_config = ModelTrainingConfig(\n",
    "            spectogram_data_dir = self.config.spectogram_data_dir,\n",
    "            train_model_path = self.config.train_model_path,\n",
    "            accuracy_plot_path = self.config.accuracy_plot_path,\n",
    "            params_epochs = self.params.EPOCHS,\n",
    "            params_batch_size = self.params.BATCH_SIZE,\n",
    "            params_image_size = self.params.IMAGE_SIZE,\n",
    "            params_learning_rate = self.params.LEARNING_RATE\n",
    "        )\n",
    "\n",
    "        return training_config"
   ]
  },
  {
   "cell_type": "code",
   "execution_count": null,
   "metadata": {},
   "outputs": [],
   "source": [
    "class DataLoader:\n",
    "    def __init__(self, config:ModelTrainingConfig):\n",
    "        self.config = config\n",
    "\n",
    "    def load_images_from_path(self, path, label):\n",
    "        images = []\n",
    "        labels = []\n",
    "\n",
    "        for file in os.listdir(path):\n",
    "            images.append(img_to_array(load_img(os.path.join(path, file), target_size=(self.config.params_image_size))))\n",
    "            labels.append((label))\n",
    "            \n",
    "        return images, labels\n",
    "\n",
    "    def create_dataset(self, subdir):\n",
    "        images, labels = self.load_images_from_path(os.path.join(self.config.spectogram_data_dir, subdir, \"real\"), 1)\n",
    "        x += images\n",
    "        y += labels\n",
    "\n",
    "        images, labels = self.load_images_from_path(os.path.join(self.config.spectogram_data_dir, subdir, \"fake\"), 0)\n",
    "        x += images\n",
    "        y += labels\n",
    "        \n",
    "        return x, y\n",
    "    # https://www.youtube.com/watch?v=86BKEv0X2xU\n",
    "    # https://www.youtube.com/watch?v=p7V4Aa7qEpw\n"
   ]
  },
  {
   "cell_type": "code",
   "execution_count": null,
   "metadata": {},
   "outputs": [],
   "source": [
    "from tensorflow.keras.utils import to_categorical\n",
    "from sklearn.model_selection import train_test_split\n",
    "\n",
    "config = ConfigurationManager()\n",
    "model_training_config = config.get_model_training_config()\n",
    "data_loader = DataLoader(config=model_training_config)\n",
    "x_train, y_train = data_loader.create_dataset(\"training\")\n",
    "x_dev, y_dev = data_loader.create_dataset(\"validation\")\n",
    "\n",
    "x_train_norm = np.array(x_train) / 255 # normalise\n",
    "x_dev_norm = np.array(x_dev) / 255\n",
    "\n",
    "y_train_encoded = to_categorical(y_train)\n",
    "y_dev_encoded = to_categorical(y_dev)"
   ]
  },
  {
   "cell_type": "code",
   "execution_count": null,
   "metadata": {},
   "outputs": [],
   "source": [
    "import keras\n",
    "from keras.models import Sequential\n",
    "from keras.layers import Conv2D, MaxPooling2D\n",
    "from keras.layers import Flatten, Dense\n",
    "\n",
    "\n",
    "class Training:\n",
    "    def __init__(self, config: ModelTrainingConfig):\n",
    "        self.config = config\n",
    "\n",
    "    def get_model(self):\n",
    "        self.model = Sequential()\n",
    "        self.model.add(Conv2D(32, (3, 3), activation='relu', input_shape=self.config.params_image_size))\n",
    "        self.model.add(MaxPooling2D(2, 2))\n",
    "        self.model.add(Conv2D(128, (3, 3), activation='relu'))\n",
    "        self.model.add(MaxPooling2D(2, 2))\n",
    "        self.model.add(Conv2D(128, (3, 3), activation='relu'))\n",
    "        self.model.add(MaxPooling2D(2, 2))\n",
    "        self.model.add(Conv2D(128, (3, 3), activation='relu'))\n",
    "        self.model.add(MaxPooling2D(2, 2))\n",
    "        self.model.add(Flatten())\n",
    "        self.model.add(Dense(1024, activation='relu'))\n",
    "        self.model.add(Dense(2, activation='sigmoid'))\n",
    "        optimizer = keras.optimizers.Adam(lr=self.config.params_learning_rate)\n",
    "        self.model.compile(loss='categorical_crossentropy', metrics=['accuracy'], optimizer=optimizer)\n",
    "\n",
    "        print(self.model.summary())\n",
    "    \n",
    "    def load_images_from_path(self, path, label):\n",
    "        images = []\n",
    "        labels = []\n",
    "\n",
    "        for file in os.listdir(path):\n",
    "            images.append(img_to_array(load_img(os.path.join(path, file), target_size=(self.config.params_image_size))))\n",
    "            labels.append((label))\n",
    "            \n",
    "        return images, labels\n",
    "\n",
    "    def create_dataset(self, subdir):\n",
    "        images, labels = self.load_images_from_path(os.path.join(self.config.spectogram_data_dir, subdir, \"real\"), 1)\n",
    "        x += images\n",
    "        y += labels\n",
    "\n",
    "        images, labels = self.load_images_from_path(os.path.join(self.config.spectogram_data_dir, subdir, \"fake\"), 0)\n",
    "        x += images\n",
    "        y += labels\n",
    "        \n",
    "        return x, y\n",
    "    \n",
    "    def train(self):\n",
    "        x_train, y_train = self.create_dataset(\"training\")\n",
    "        x_dev, y_dev = self.create_dataset(\"validation\")\n",
    "\n",
    "        x_train_norm = np.array(x_train) / 255 # normalise\n",
    "        x_dev_norm = np.array(x_dev) / 255\n",
    "\n",
    "        y_train_encoded = to_categorical(y_train)\n",
    "        y_dev_encoded = to_categorical(y_dev)\n",
    "\n",
    "        self.hist = self.model.fit(x_train_norm, y_train_encoded,\n",
    "                              validation_data=(x_dev_norm, y_dev_encoded),\n",
    "                              batch_size=self.config.params_batch_size, epochs=self.config.params_epochs)\n",
    "        self.save_model(\n",
    "            path=self.config.train_model_path,\n",
    "            model=self.model\n",
    "        )\n",
    "    \n",
    "    @staticmethod\n",
    "    def save_model(path: Path, model: tf.keras.Model):\n",
    "        model.save(path)\n",
    "\n",
    "    def plot_accuracy(self):\n",
    "        acc = self.hist.history['accuracy']\n",
    "        val_acc = self.hist.history['val_accuracy']\n",
    "        epochs = range(1, len(acc) + 1)\n",
    "\n",
    "        plt.plot(epochs, acc, '-', label='Training Accuracy')\n",
    "        plt.plot(epochs, val_acc, ':', label='Validation Accuracy')\n",
    "        plt.title('Training and Validation Accuracy')\n",
    "        plt.xlabel('Epoch')\n",
    "        plt.ylabel('Accuracy')\n",
    "        plt.legend(loc='lower right')\n",
    "        plt.show()\n",
    "        plt.savefig(self.config.accuracy_plot_path)\n",
    "        plt.close()\n",
    "        "
   ]
  },
  {
   "cell_type": "code",
   "execution_count": null,
   "metadata": {},
   "outputs": [],
   "source": [
    "config = ConfigurationManager()\n",
    "model_training_config = config.get_model_training_config()\n",
    "training = Training(config=model_training_config)\n",
    "training.get_model()\n",
    "training.train()\n",
    "training.plot_accuracy()"
   ]
  },
  {
   "cell_type": "markdown",
   "metadata": {},
   "source": []
  },
  {
   "cell_type": "code",
   "execution_count": null,
   "metadata": {},
   "outputs": [],
   "source": []
  }
 ],
 "metadata": {
  "kernelspec": {
   "display_name": "deepfake",
   "language": "python",
   "name": "python3"
  },
  "language_info": {
   "codemirror_mode": {
    "name": "ipython",
    "version": 3
   },
   "file_extension": ".py",
   "mimetype": "text/x-python",
   "name": "python",
   "nbconvert_exporter": "python",
   "pygments_lexer": "ipython3",
   "version": "3.8.20"
  }
 },
 "nbformat": 4,
 "nbformat_minor": 2
}

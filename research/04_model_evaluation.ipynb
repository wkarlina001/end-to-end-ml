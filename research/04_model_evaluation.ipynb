{
 "cells": [
  {
   "cell_type": "code",
   "execution_count": 1,
   "metadata": {},
   "outputs": [],
   "source": [
    "import os\n",
    "\n",
    "os.environ[\"MLFLOW_TRACKING_URI\"]=\"https://dagshub.com/wkarlina001/end-to-end-ml.mlflow\"\n",
    "os.environ[\"MLFLOW_TRACKING_USERNAME\"]=\"wkarlina001\"\n",
    "os.environ[\"MLFLOW_TRACKING_PASSWORD\"]=\"9e92f54fc366d8f0f6d5e6a7adce34c1a1d51177\"\n"
   ]
  },
  {
   "cell_type": "code",
   "execution_count": 2,
   "metadata": {},
   "outputs": [
    {
     "name": "stderr",
     "output_type": "stream",
     "text": [
      "2025-01-04 14:28:41.542667: I tensorflow/core/platform/cpu_feature_guard.cc:182] This TensorFlow binary is optimized to use available CPU instructions in performance-critical operations.\n",
      "To enable the following instructions: SSE4.1 SSE4.2, in other operations, rebuild TensorFlow with the appropriate compiler flags.\n"
     ]
    }
   ],
   "source": [
    "import tensorflow as tf\n",
    "from dataclasses import dataclass\n",
    "from pathlib import Path\n",
    "from deepFakeDetection.constants import *\n",
    "from deepFakeDetection.utils.common import read_yaml, create_directories\n",
    "from deepFakeDetection.entity.config_entity import *\n",
    "\n",
    "@dataclass(frozen=True)\n",
    "class EvaluationConfig:\n",
    "    path_of_model: Path\n",
    "    spectogram_data_dir: Path\n",
    "    all_params: dict\n",
    "    mlflow_uri: str\n",
    "    params_image_size: list\n",
    "    params_batch_size: int\n",
    "\n"
   ]
  },
  {
   "cell_type": "code",
   "execution_count": 3,
   "metadata": {},
   "outputs": [],
   "source": [
    "from deepFakeDetection.constants import *\n",
    "from deepFakeDetection.utils.common import read_yaml, create_directories, save_json\n",
    "from deepFakeDetection.entity.config_entity import *\n",
    "\n",
    "class ConfigurationManager:\n",
    "    def __init__(\n",
    "            self,\n",
    "            config_filepath = CONFIG_FILE_PATH,\n",
    "            params_filepath = PARAMS_FILE_PATH\n",
    "    ):\n",
    "        self.config = read_yaml(config_filepath)\n",
    "        self.params = read_yaml(params_filepath)\n",
    "        \n",
    "        create_directories([self.config.artifact_root])\n",
    "\n",
    "    def get_evaluation_config(self) -> EvaluationConfig:\n",
    "        \n",
    "        eval_config = EvaluationConfig(\n",
    "            path_of_model=\"artifacts/training/model.h5\",\n",
    "            spectogram_data_dir=\"../artifacts/data_transformation/for-norm/\",\n",
    "            mlflow_uri=\"https://dagshub.com/wkarlina001/end-to-end-ml.mlflow\",\n",
    "            all_params=self.params,\n",
    "            params_image_size=self.params.IMAGE_SIZE,\n",
    "            params_batch_size=self.params.BATCH_SIZE\n",
    "        )\n",
    "\n",
    "        return eval_config"
   ]
  },
  {
   "cell_type": "code",
   "execution_count": 18,
   "metadata": {},
   "outputs": [],
   "source": [
    "import tensorflow as tf\n",
    "from pathlib import Path\n",
    "import mlflow\n",
    "import mlflow.keras\n",
    "from urllib.parse import urlparse\n",
    "from tensorflow.keras.utils import load_img, img_to_array\n",
    "import numpy as np\n",
    "from tensorflow.keras.utils import to_categorical\n"
   ]
  },
  {
   "cell_type": "code",
   "execution_count": 23,
   "metadata": {},
   "outputs": [],
   "source": [
    "class Evaluation:\n",
    "    def __init__(self, config: EvaluationConfig):\n",
    "        self.config = config\n",
    "\n",
    "    def load_images_from_path(self, path, label):\n",
    "        images = []\n",
    "        labels = []\n",
    "\n",
    "        for file in os.listdir(path):\n",
    "            try:\n",
    "                images.append(img_to_array(load_img(os.path.join(path, file), target_size=(self.config.params_image_size))))\n",
    "                labels.append((label))\n",
    "            except:\n",
    "                continue\n",
    "        return images, labels\n",
    "\n",
    "    def create_dataset(self, subdir):\n",
    "        print(os.path.join(self.config.spectogram_data_dir, subdir, \"real\"))\n",
    "        x = []\n",
    "        y = []\n",
    "        images, labels = self.load_images_from_path(os.path.join(self.config.spectogram_data_dir, subdir, \"real\"), 1)\n",
    "        x += images\n",
    "        y += labels\n",
    "\n",
    "        images, labels = self.load_images_from_path(os.path.join(self.config.spectogram_data_dir, subdir, \"fake\"), 0)\n",
    "        x += images\n",
    "        y += labels\n",
    "        \n",
    "        return x, y\n",
    "\n",
    "    @staticmethod\n",
    "    def load_model(path: Path) -> tf.keras.Model:\n",
    "        return tf.keras.models.load_model(path)\n",
    "    \n",
    "\n",
    "    def evaluation(self):\n",
    "        # self.model = self.load_model(self.config.path_of_model)\n",
    "        self.model = tf.keras.models.load_model(\"../artifacts/training/model.h5\")\n",
    "        \n",
    "        x, y = self.create_dataset(\"testing\")\n",
    "        x1 = np.array(x) / 255\n",
    "        y1 = to_categorical(y)\n",
    "\n",
    "        self.score = self.model.evaluate(x1, y1, batch_size=128)\n",
    "        self.save_score()\n",
    "\n",
    "    def save_score(self):\n",
    "        scores = {\"loss\": self.score[0], \"accuracy\": self.score[1]}\n",
    "        save_json(path=Path(\"scores.json\"), data=scores)\n",
    "\n",
    "    \n",
    "    def log_into_mlflow(self):\n",
    "        mlflow.set_registry_uri(self.config.mlflow_uri)\n",
    "        tracking_url_type_store = urlparse(mlflow.get_tracking_uri()).scheme\n",
    "        \n",
    "        with mlflow.start_run():\n",
    "            mlflow.log_params(self.config.all_params)\n",
    "            mlflow.log_metrics(\n",
    "                {\"loss\": self.score[0], \"accuracy\": self.score[1]}\n",
    "            )\n",
    "            # Model registry does not work with file store\n",
    "            if tracking_url_type_store != \"file\":\n",
    "\n",
    "                # Register the model\n",
    "                # There are other ways to use the Model Registry, which depends on the use case,\n",
    "                # please refer to the doc for more information:\n",
    "                # https://mlflow.org/docs/latest/model-registry.html#api-workflow\n",
    "                mlflow.keras.log_model(self.model, \"model\", registered_model_name=\"CustomCNNModel\")\n",
    "            else:\n",
    "                mlflow.keras.log_model(self.model, \"model\")"
   ]
  },
  {
   "cell_type": "code",
   "execution_count": 24,
   "metadata": {},
   "outputs": [
    {
     "name": "stdout",
     "output_type": "stream",
     "text": [
      "[2025-01-04 15:06:48,063: INFO: common: yaml file: /Users/wiwikkarlina/Documents/Escape_Plan/end-to-end-ml/config/config.yaml loaded successfully]\n",
      "[2025-01-04 15:06:48,070: INFO: common: yaml file: /Users/wiwikkarlina/Documents/Escape_Plan/end-to-end-ml/params.yaml loaded successfully]\n",
      "[2025-01-04 15:06:48,073: INFO: common: created directory at: artifacts]\n",
      "../artifacts/data_transformation/for-norm/testing/real\n"
     ]
    },
    {
     "name": "stderr",
     "output_type": "stream",
     "text": [
      "2025-01-04 15:07:31.484386: I tensorflow/core/grappler/optimizers/custom_graph_optimizer_registry.cc:114] Plugin optimizer for device_type GPU is enabled.\n"
     ]
    },
    {
     "name": "stdout",
     "output_type": "stream",
     "text": [
      "37/37 [==============================] - 5s 82ms/step - loss: 10.1685 - accuracy: 0.4716\n",
      "[2025-01-04 15:07:35,388: INFO: common: json file saved at: scores.json]\n",
      "https\n"
     ]
    },
    {
     "name": "stderr",
     "output_type": "stream",
     "text": [
      "2025/01/04 15:07:36 WARNING mlflow.tensorflow: You are saving a TensorFlow Core model or Keras model without a signature. Inference with mlflow.pyfunc.spark_udf() will not work unless the model's pyfunc representation accepts pandas DataFrames as inference inputs.\n"
     ]
    },
    {
     "name": "stdout",
     "output_type": "stream",
     "text": [
      "[2025-01-04 15:07:37,185: WARNING: save: Found untraced functions such as _jit_compiled_convolution_op, _jit_compiled_convolution_op, _jit_compiled_convolution_op, _jit_compiled_convolution_op while saving (showing 4 of 4). These functions will not be directly callable after loading.]\n",
      "INFO:tensorflow:Assets written to: /var/folders/s3/n_t4f85d55b1c46dx20rkhmc0000gn/T/tmp_zb6m16y/model/data/model/assets\n",
      "[2025-01-04 15:07:38,157: INFO: builder_impl: Assets written to: /var/folders/s3/n_t4f85d55b1c46dx20rkhmc0000gn/T/tmp_zb6m16y/model/data/model/assets]\n"
     ]
    },
    {
     "name": "stderr",
     "output_type": "stream",
     "text": [
      "Registered model 'CustomCNNModel' already exists. Creating a new version of this model...\n",
      "2025/01/04 15:08:19 INFO mlflow.tracking._model_registry.client: Waiting up to 300 seconds for model version to finish creation.                     Model name: CustomCNNModel, version 2\n",
      "Created version '2' of model 'CustomCNNModel'.\n"
     ]
    }
   ],
   "source": [
    "try:\n",
    "    config = ConfigurationManager()\n",
    "    eval_config = config.get_evaluation_config()\n",
    "    evaluation = Evaluation(eval_config)\n",
    "    evaluation.evaluation()\n",
    "    evaluation.log_into_mlflow()\n",
    "\n",
    "except Exception as e:\n",
    "   raise e"
   ]
  },
  {
   "cell_type": "code",
   "execution_count": null,
   "metadata": {},
   "outputs": [],
   "source": []
  }
 ],
 "metadata": {
  "kernelspec": {
   "display_name": "deepfake",
   "language": "python",
   "name": "python3"
  },
  "language_info": {
   "codemirror_mode": {
    "name": "ipython",
    "version": 3
   },
   "file_extension": ".py",
   "mimetype": "text/x-python",
   "name": "python",
   "nbconvert_exporter": "python",
   "pygments_lexer": "ipython3",
   "version": "3.8.20"
  }
 },
 "nbformat": 4,
 "nbformat_minor": 2
}
